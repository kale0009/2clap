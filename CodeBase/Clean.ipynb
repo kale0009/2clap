{
 "cells": [
  {
   "cell_type": "code",
   "execution_count": 1,
   "metadata": {
    "collapsed": true
   },
   "outputs": [],
   "source": [
    "import numpy as np\n",
    "import pandas as pd\n",
    "import openpyxl"
   ]
  },
  {
   "cell_type": "code",
   "execution_count": 2,
   "outputs": [],
   "source": [
    "df = pd.read_excel(\"2021SOTI_SurveyDataForPublic_COPY.xlsx\", sheet_name=\"data_repub_2019\",header=2)"
   ],
   "metadata": {
    "collapsed": false,
    "pycharm": {
     "name": "#%%\n"
    }
   }
  },
  {
   "cell_type": "code",
   "execution_count": 3,
   "outputs": [
    {
     "name": "stdout",
     "output_type": "stream",
     "text": [
      "count    1357.000000\n",
      "mean      680.092852\n",
      "std       392.031734\n",
      "min         1.000000\n",
      "25%       341.000000\n",
      "50%       680.000000\n",
      "75%      1019.000000\n",
      "max      1359.000000\n",
      "Name: refID, dtype: float64\n"
     ]
    },
    {
     "data": {
      "text/plain": "count            1308\nunique             11\ntop       $60k - $80k\nfreq              232\nName: PayAnnual, dtype: object"
     },
     "execution_count": 3,
     "metadata": {},
     "output_type": "execute_result"
    }
   ],
   "source": [
    "print(df[\"refID\"].describe())\n",
    "df[\"PayAnnual\"].describe()"
   ],
   "metadata": {
    "collapsed": false,
    "pycharm": {
     "name": "#%%\n"
    }
   }
  },
  {
   "cell_type": "code",
   "execution_count": 4,
   "outputs": [
    {
     "name": "stdout",
     "output_type": "stream",
     "text": [
      "Index(['refID', 'EducDV', 'TopMethodsDVEduc_', 'TopDVSkillsToImprove',\n",
      "       'JobTitle__', 'Freelance', 'DVCentralityInWork', 'DVCentralityAsHired',\n",
      "       'DVCompareExpected', 'RoleMultichoice', 'PayAnnual', 'PayHourly',\n",
      "       'OrgDVWhy_', 'OrgDVWhere1', 'OrgDVHow_', 'DVOrgLeadership',\n",
      "       'OrgDVWhere2_', 'TimeProducingViz', 'TimeDataEngineering',\n",
      "       'TimeDataScience', 'TimeDesign', 'TimeDataPrep', 'TimePortfolio',\n",
      "       'ToolsForDV_', 'ToolsChoice', 'DVSharingChannels_', 'ChartsUsed_',\n",
      "       'Audience_', 'AudienceDataFamiliarity_', 'AudienceDVUseFreq',\n",
      "       'AudienceDVUsePurpose_', 'StakeholderRelationship', 'ResourcesAdequate',\n",
      "       'TopFrustrationsDV__', 'OneChangeDV__', 'DVNotUnderstood__',\n",
      "       'ResourcesNotAdequate', 'WantEfficiencyAids', 'LimitedSkills',\n",
      "       'OneChangeJobDV__', 'CommunitySupportWanted__', 'DVGoTos__',\n",
      "       'DVFuturePreference', 'YearsDVExperience', 'EducLevel', 'OrgSector',\n",
      "       'EducUndergradMajor__', 'Gender_', 'LGBTQ', 'Loc3CityEtc__',\n",
      "       'Loc1Country__cleaned', 'Loc1Country__categorized', 'HumanLanguages__'],\n",
      "      dtype='object')\n"
     ]
    }
   ],
   "source": [
    "print(df.columns)\n",
    "df1 = df[[\"refID\",\"PayAnnual\",\"RoleMultichoice\",\"Freelance\",\"YearsDVExperience\",\"EducLevel\",\"Gender_\",\"Loc1Country__cleaned\"]]"
   ],
   "metadata": {
    "collapsed": false,
    "pycharm": {
     "name": "#%%\n"
    }
   }
  },
  {
   "cell_type": "code",
   "execution_count": 5,
   "outputs": [
    {
     "name": "stderr",
     "output_type": "stream",
     "text": [
      "C:\\Users\\David\\AppData\\Local\\Temp\\ipykernel_5492\\3618226603.py:1: SettingWithCopyWarning: \n",
      "A value is trying to be set on a copy of a slice from a DataFrame.\n",
      "Try using .loc[row_indexer,col_indexer] = value instead\n",
      "\n",
      "See the caveats in the documentation: https://pandas.pydata.org/pandas-docs/stable/user_guide/indexing.html#returning-a-view-versus-a-copy\n",
      "  df1[\"Gender_\"] = df1[\"Gender_\"].replace([\"Prefer not to say\",\"Non-binary\",\"Woman, Non-binary\",\"Genderqueer\",\"Man, Non-binary\",\"Trans\",\"Woman, Prefer not to say\",np.NAN],\"Other\")\n"
     ]
    },
    {
     "data": {
      "text/plain": "Man      858\nWoman    434\nOther     65\nName: Gender_, dtype: int64"
     },
     "execution_count": 5,
     "metadata": {},
     "output_type": "execute_result"
    }
   ],
   "source": [
    "df1[\"Gender_\"] = df1[\"Gender_\"].replace([\"Prefer not to say\",\"Non-binary\",\"Woman, Non-binary\",\"Genderqueer\",\"Man, Non-binary\",\"Trans\",\"Woman, Prefer not to say\",np.NAN],\"Other\")\n",
    "df1[\"Gender_\"].value_counts()\n",
    "#Changing all Non-Binary to \"Other\""
   ],
   "metadata": {
    "collapsed": false,
    "pycharm": {
     "name": "#%%\n"
    }
   }
  },
  {
   "cell_type": "code",
   "execution_count": 6,
   "outputs": [
    {
     "name": "stderr",
     "output_type": "stream",
     "text": [
      "C:\\Users\\David\\AppData\\Local\\Temp\\ipykernel_5492\\318490814.py:3: SettingWithCopyWarning: \n",
      "A value is trying to be set on a copy of a slice from a DataFrame.\n",
      "Try using .loc[row_indexer,col_indexer] = value instead\n",
      "\n",
      "See the caveats in the documentation: https://pandas.pydata.org/pandas-docs/stable/user_guide/indexing.html#returning-a-view-versus-a-copy\n",
      "  df1[\"PayAnnual\"] = pd.Categorical(df1[\"PayAnnual\"],categories=[\"Less than $20,000\",\"$20k - $40k\",\"$40k - $60k\",\"$60k - $80k\",\"$80k - $100k\",\"$100k - $120k\",\"$120k - $140k\",\"$140k - $160k\",\"$160k - $180k\",\"$180k - $200k\",\"$200k+\"],ordered=True)\n"
     ]
    },
    {
     "data": {
      "text/plain": "refID                      int64\nPayAnnual               category\nRoleMultichoice           object\nFreelance                 object\nYearsDVExperience        float64\nEducLevel                 object\nGender_                   object\nLoc1Country__cleaned      object\ndtype: object"
     },
     "execution_count": 6,
     "metadata": {},
     "output_type": "execute_result"
    }
   ],
   "source": [
    "df1[\"PayAnnual\"].value_counts()\n",
    "#Ordering Categories of PayAnnual\n",
    "df1[\"PayAnnual\"] = pd.Categorical(df1[\"PayAnnual\"],categories=[\"Less than $20,000\",\"$20k - $40k\",\"$40k - $60k\",\"$60k - $80k\",\"$80k - $100k\",\"$100k - $120k\",\"$120k - $140k\",\"$140k - $160k\",\"$160k - $180k\",\"$180k - $200k\",\"$200k+\"],ordered=True)\n",
    "df1.dtypes"
   ],
   "metadata": {
    "collapsed": false,
    "pycharm": {
     "name": "#%%\n"
    }
   }
  },
  {
   "cell_type": "code",
   "execution_count": 7,
   "outputs": [
    {
     "name": "stderr",
     "output_type": "stream",
     "text": [
      "C:\\Users\\David\\AppData\\Local\\Temp\\ipykernel_5492\\4124676843.py:2: SettingWithCopyWarning: \n",
      "A value is trying to be set on a copy of a slice from a DataFrame.\n",
      "Try using .loc[row_indexer,col_indexer] = value instead\n",
      "\n",
      "See the caveats in the documentation: https://pandas.pydata.org/pandas-docs/stable/user_guide/indexing.html#returning-a-view-versus-a-copy\n",
      "  df1[\"RoleMultichoice\"] = pd.Categorical(df1[\"RoleMultichoice\"],df1[\"RoleMultichoice\"].unique())\n",
      "C:\\Users\\David\\AppData\\Local\\Temp\\ipykernel_5492\\4124676843.py:3: SettingWithCopyWarning: \n",
      "A value is trying to be set on a copy of a slice from a DataFrame\n",
      "\n",
      "See the caveats in the documentation: https://pandas.pydata.org/pandas-docs/stable/user_guide/indexing.html#returning-a-view-versus-a-copy\n",
      "  df1[\"Freelance\"].fillna(\"Unclear\", inplace=True)\n",
      "C:\\Users\\David\\AppData\\Local\\Temp\\ipykernel_5492\\4124676843.py:4: SettingWithCopyWarning: \n",
      "A value is trying to be set on a copy of a slice from a DataFrame.\n",
      "Try using .loc[row_indexer,col_indexer] = value instead\n",
      "\n",
      "See the caveats in the documentation: https://pandas.pydata.org/pandas-docs/stable/user_guide/indexing.html#returning-a-view-versus-a-copy\n",
      "  df1[\"Freelance\"] = pd.Categorical(df1[\"Freelance\"],df1[\"Freelance\"].unique())\n"
     ]
    },
    {
     "data": {
      "text/plain": "refID                      int64\nPayAnnual               category\nRoleMultichoice         category\nFreelance               category\nYearsDVExperience        float64\nEducLevel                 object\nGender_                   object\nLoc1Country__cleaned      object\ndtype: object"
     },
     "execution_count": 7,
     "metadata": {},
     "output_type": "execute_result"
    }
   ],
   "source": [
    "#Change Role to Categorical and Freelance, Fill Freelance\n",
    "df1[\"RoleMultichoice\"] = pd.Categorical(df1[\"RoleMultichoice\"],df1[\"RoleMultichoice\"].unique())\n",
    "df1[\"Freelance\"].fillna(\"Unclear\", inplace=True)\n",
    "df1[\"Freelance\"] = pd.Categorical(df1[\"Freelance\"],df1[\"Freelance\"].unique())\n",
    "df1.dtypes"
   ],
   "metadata": {
    "collapsed": false,
    "pycharm": {
     "name": "#%%\n"
    }
   }
  },
  {
   "cell_type": "code",
   "execution_count": 8,
   "outputs": [
    {
     "name": "stderr",
     "output_type": "stream",
     "text": [
      "C:\\Users\\David\\AppData\\Local\\Temp\\ipykernel_5492\\3932696603.py:2: SettingWithCopyWarning: \n",
      "A value is trying to be set on a copy of a slice from a DataFrame\n",
      "\n",
      "See the caveats in the documentation: https://pandas.pydata.org/pandas-docs/stable/user_guide/indexing.html#returning-a-view-versus-a-copy\n",
      "  df1[\"EducLevel\"].fillna(\"None\", inplace=True)\n",
      "C:\\Users\\David\\AppData\\Local\\Temp\\ipykernel_5492\\3932696603.py:24: SettingWithCopyWarning: \n",
      "A value is trying to be set on a copy of a slice from a DataFrame.\n",
      "Try using .loc[row_indexer,col_indexer] = value instead\n",
      "\n",
      "See the caveats in the documentation: https://pandas.pydata.org/pandas-docs/stable/user_guide/indexing.html#returning-a-view-versus-a-copy\n",
      "  df1[\"EducLevel\"]=df1[\"EducLevel\"].apply(lambda x: educFilter(x))\n",
      "C:\\Users\\David\\AppData\\Local\\Temp\\ipykernel_5492\\3932696603.py:25: SettingWithCopyWarning: \n",
      "A value is trying to be set on a copy of a slice from a DataFrame.\n",
      "Try using .loc[row_indexer,col_indexer] = value instead\n",
      "\n",
      "See the caveats in the documentation: https://pandas.pydata.org/pandas-docs/stable/user_guide/indexing.html#returning-a-view-versus-a-copy\n",
      "  df1[\"EducLevel\"] = df1[\"EducLevel\"].replace([\"Technical School\",\"Some College\",\"None\"],\"Other\")\n"
     ]
    },
    {
     "data": {
      "text/plain": "Masters     576\nbachelor    438\nPhD         239\nOther       104\nName: EducLevel, dtype: int64"
     },
     "execution_count": 8,
     "metadata": {},
     "output_type": "execute_result"
    }
   ],
   "source": [
    "#Fill Nulls in EducLevel with None, Categorical ordered\n",
    "df1[\"EducLevel\"].fillna(\"None\", inplace=True)\n",
    "#If contains EducLevel contains \"phd\" or \"doctorate\" or \"ABD\" Assume phd level\n",
    "#If contains \"masters\" or \"ms\" but NOT \"phd' assume \"Masters\"\n",
    "#If contains AAS or Associates, or some, assume \"Some Degree\"\n",
    "#If contains \"High School\" assume \"No Degree\"\n",
    "#else, \"Other\"\n",
    "def educFilter(text:str):\n",
    "    lowerText = text.lower()\n",
    "    if any(substring in lowerText for substring in [\"phd\",\"doctorate\",\"abd\"]):\n",
    "        return \"PhD\"\n",
    "    if any(substring in lowerText for substring in ['masters','ms']):\n",
    "        return \"Masters\"\n",
    "    if any(substring in lowerText for substring in ['ba','bachelor']):\n",
    "        return \"bachelor\"\n",
    "    if any(substring in lowerText for substring in [\"associates\",\"some\"]):\n",
    "        return \"Some College\"\n",
    "    if any(substring in lowerText for substring in ['high school','no degree']):\n",
    "        return \"None\"\n",
    "    if \"technical school\" in lowerText:\n",
    "        return \"Technical School\"\n",
    "    return \"Other\"\n",
    "\n",
    "df1[\"EducLevel\"]=df1[\"EducLevel\"].apply(lambda x: educFilter(x))\n",
    "df1[\"EducLevel\"] = df1[\"EducLevel\"].replace([\"Technical School\",\"Some College\",\"None\"],\"Other\")\n",
    "df1[\"EducLevel\"].value_counts()\n"
   ],
   "metadata": {
    "collapsed": false,
    "pycharm": {
     "name": "#%%\n"
    }
   }
  },
  {
   "cell_type": "code",
   "execution_count": 9,
   "outputs": [
    {
     "name": "stderr",
     "output_type": "stream",
     "text": [
      "C:\\Users\\David\\AppData\\Local\\Temp\\ipykernel_5492\\3050780575.py:1: SettingWithCopyWarning: \n",
      "A value is trying to be set on a copy of a slice from a DataFrame\n",
      "\n",
      "See the caveats in the documentation: https://pandas.pydata.org/pandas-docs/stable/user_guide/indexing.html#returning-a-view-versus-a-copy\n",
      "  df1.dropna(how=\"any\", subset=\"PayAnnual\", inplace=True)\n"
     ]
    },
    {
     "data": {
      "text/plain": "      refID          PayAnnual                          RoleMultichoice  \\\n0         1        $40k - $60k                                 Academic   \n1         2  Less than $20,000  Leadership (Manager, Director, VP, etc)   \n2         3      $120k - $140k  Leadership (Manager, Director, VP, etc)   \n3         4      $100k - $120k  Leadership (Manager, Director, VP, etc)   \n4         6       $80k - $100k                                Developer   \n...     ...                ...                                      ...   \n1351   1354        $60k - $80k                                Developer   \n1352   1355        $60k - $80k                                  Student   \n1353   1356        $40k - $60k                                 Academic   \n1354   1357        $60k - $80k  Leadership (Manager, Director, VP, etc)   \n1356   1359        $20k - $40k                                 Engineer   \n\n       Freelance  YearsDVExperience EducLevel Gender_ Loc1Country__cleaned  \n0             No                2.0   Masters   Other        United States  \n1             No                6.0  bachelor     Man             Tanzania  \n2             No                7.0   Masters     Man        United States  \n3            Yes                5.0  bachelor     Man        United States  \n4     Occasional                NaN     Other     Man        United States  \n...          ...                ...       ...     ...                  ...  \n1351         Yes                7.0   Masters   Other       United Kingdom  \n1352         Yes                2.0       PhD   Other               Mexico  \n1353         Yes                8.0       PhD   Other                  NaN  \n1354         Yes                4.0   Masters   Other        United States  \n1356         Yes                NaN     Other   Other                  NaN  \n\n[1308 rows x 8 columns]",
      "text/html": "<div>\n<style scoped>\n    .dataframe tbody tr th:only-of-type {\n        vertical-align: middle;\n    }\n\n    .dataframe tbody tr th {\n        vertical-align: top;\n    }\n\n    .dataframe thead th {\n        text-align: right;\n    }\n</style>\n<table border=\"1\" class=\"dataframe\">\n  <thead>\n    <tr style=\"text-align: right;\">\n      <th></th>\n      <th>refID</th>\n      <th>PayAnnual</th>\n      <th>RoleMultichoice</th>\n      <th>Freelance</th>\n      <th>YearsDVExperience</th>\n      <th>EducLevel</th>\n      <th>Gender_</th>\n      <th>Loc1Country__cleaned</th>\n    </tr>\n  </thead>\n  <tbody>\n    <tr>\n      <th>0</th>\n      <td>1</td>\n      <td>$40k - $60k</td>\n      <td>Academic</td>\n      <td>No</td>\n      <td>2.0</td>\n      <td>Masters</td>\n      <td>Other</td>\n      <td>United States</td>\n    </tr>\n    <tr>\n      <th>1</th>\n      <td>2</td>\n      <td>Less than $20,000</td>\n      <td>Leadership (Manager, Director, VP, etc)</td>\n      <td>No</td>\n      <td>6.0</td>\n      <td>bachelor</td>\n      <td>Man</td>\n      <td>Tanzania</td>\n    </tr>\n    <tr>\n      <th>2</th>\n      <td>3</td>\n      <td>$120k - $140k</td>\n      <td>Leadership (Manager, Director, VP, etc)</td>\n      <td>No</td>\n      <td>7.0</td>\n      <td>Masters</td>\n      <td>Man</td>\n      <td>United States</td>\n    </tr>\n    <tr>\n      <th>3</th>\n      <td>4</td>\n      <td>$100k - $120k</td>\n      <td>Leadership (Manager, Director, VP, etc)</td>\n      <td>Yes</td>\n      <td>5.0</td>\n      <td>bachelor</td>\n      <td>Man</td>\n      <td>United States</td>\n    </tr>\n    <tr>\n      <th>4</th>\n      <td>6</td>\n      <td>$80k - $100k</td>\n      <td>Developer</td>\n      <td>Occasional</td>\n      <td>NaN</td>\n      <td>Other</td>\n      <td>Man</td>\n      <td>United States</td>\n    </tr>\n    <tr>\n      <th>...</th>\n      <td>...</td>\n      <td>...</td>\n      <td>...</td>\n      <td>...</td>\n      <td>...</td>\n      <td>...</td>\n      <td>...</td>\n      <td>...</td>\n    </tr>\n    <tr>\n      <th>1351</th>\n      <td>1354</td>\n      <td>$60k - $80k</td>\n      <td>Developer</td>\n      <td>Yes</td>\n      <td>7.0</td>\n      <td>Masters</td>\n      <td>Other</td>\n      <td>United Kingdom</td>\n    </tr>\n    <tr>\n      <th>1352</th>\n      <td>1355</td>\n      <td>$60k - $80k</td>\n      <td>Student</td>\n      <td>Yes</td>\n      <td>2.0</td>\n      <td>PhD</td>\n      <td>Other</td>\n      <td>Mexico</td>\n    </tr>\n    <tr>\n      <th>1353</th>\n      <td>1356</td>\n      <td>$40k - $60k</td>\n      <td>Academic</td>\n      <td>Yes</td>\n      <td>8.0</td>\n      <td>PhD</td>\n      <td>Other</td>\n      <td>NaN</td>\n    </tr>\n    <tr>\n      <th>1354</th>\n      <td>1357</td>\n      <td>$60k - $80k</td>\n      <td>Leadership (Manager, Director, VP, etc)</td>\n      <td>Yes</td>\n      <td>4.0</td>\n      <td>Masters</td>\n      <td>Other</td>\n      <td>United States</td>\n    </tr>\n    <tr>\n      <th>1356</th>\n      <td>1359</td>\n      <td>$20k - $40k</td>\n      <td>Engineer</td>\n      <td>Yes</td>\n      <td>NaN</td>\n      <td>Other</td>\n      <td>Other</td>\n      <td>NaN</td>\n    </tr>\n  </tbody>\n</table>\n<p>1308 rows × 8 columns</p>\n</div>"
     },
     "execution_count": 9,
     "metadata": {},
     "output_type": "execute_result"
    }
   ],
   "source": [
    "df1.dropna(how=\"any\", subset=\"PayAnnual\", inplace=True)\n",
    "df1"
   ],
   "metadata": {
    "collapsed": false,
    "pycharm": {
     "name": "#%%\n"
    }
   }
  },
  {
   "cell_type": "code",
   "execution_count": 10,
   "outputs": [],
   "source": [
    "df1.to_csv(\"DataDraft1.csv\")"
   ],
   "metadata": {
    "collapsed": false,
    "pycharm": {
     "name": "#%%\n"
    }
   }
  }
 ],
 "metadata": {
  "kernelspec": {
   "display_name": "Python 3",
   "language": "python",
   "name": "python3"
  },
  "language_info": {
   "codemirror_mode": {
    "name": "ipython",
    "version": 2
   },
   "file_extension": ".py",
   "mimetype": "text/x-python",
   "name": "python",
   "nbconvert_exporter": "python",
   "pygments_lexer": "ipython2",
   "version": "2.7.6"
  }
 },
 "nbformat": 4,
 "nbformat_minor": 0
}