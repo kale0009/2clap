{
 "cells": [
  {
   "cell_type": "code",
   "execution_count": 59,
   "metadata": {
    "collapsed": true
   },
   "outputs": [],
   "source": [
    "import pandas as pd\n",
    "import openpyxl"
   ]
  },
  {
   "cell_type": "code",
   "execution_count": 60,
   "outputs": [],
   "source": [
    "df = pd.read_excel(\"2021SOTI_SurveyDataForPublic_COPY.xlsx\", sheet_name=\"data_repub_2019\",header=2)"
   ],
   "metadata": {
    "collapsed": false,
    "pycharm": {
     "name": "#%%\n"
    }
   }
  },
  {
   "cell_type": "code",
   "execution_count": 61,
   "outputs": [
    {
     "name": "stdout",
     "output_type": "stream",
     "text": [
      "count    1357.000000\n",
      "mean      680.092852\n",
      "std       392.031734\n",
      "min         1.000000\n",
      "25%       341.000000\n",
      "50%       680.000000\n",
      "75%      1019.000000\n",
      "max      1359.000000\n",
      "Name: refID, dtype: float64\n"
     ]
    },
    {
     "data": {
      "text/plain": "count            1308\nunique             11\ntop       $60k - $80k\nfreq              232\nName: PayAnnual, dtype: object"
     },
     "execution_count": 61,
     "metadata": {},
     "output_type": "execute_result"
    }
   ],
   "source": [
    "print(df[\"refID\"].describe())\n",
    "df[\"PayAnnual\"].describe()"
   ],
   "metadata": {
    "collapsed": false,
    "pycharm": {
     "name": "#%%\n"
    }
   }
  },
  {
   "cell_type": "code",
   "execution_count": 62,
   "outputs": [
    {
     "name": "stdout",
     "output_type": "stream",
     "text": [
      "Index(['refID', 'EducDV', 'TopMethodsDVEduc_', 'TopDVSkillsToImprove',\n",
      "       'JobTitle__', 'Freelance', 'DVCentralityInWork', 'DVCentralityAsHired',\n",
      "       'DVCompareExpected', 'RoleMultichoice', 'PayAnnual', 'PayHourly',\n",
      "       'OrgDVWhy_', 'OrgDVWhere1', 'OrgDVHow_', 'DVOrgLeadership',\n",
      "       'OrgDVWhere2_', 'TimeProducingViz', 'TimeDataEngineering',\n",
      "       'TimeDataScience', 'TimeDesign', 'TimeDataPrep', 'TimePortfolio',\n",
      "       'ToolsForDV_', 'ToolsChoice', 'DVSharingChannels_', 'ChartsUsed_',\n",
      "       'Audience_', 'AudienceDataFamiliarity_', 'AudienceDVUseFreq',\n",
      "       'AudienceDVUsePurpose_', 'StakeholderRelationship', 'ResourcesAdequate',\n",
      "       'TopFrustrationsDV__', 'OneChangeDV__', 'DVNotUnderstood__',\n",
      "       'ResourcesNotAdequate', 'WantEfficiencyAids', 'LimitedSkills',\n",
      "       'OneChangeJobDV__', 'CommunitySupportWanted__', 'DVGoTos__',\n",
      "       'DVFuturePreference', 'YearsDVExperience', 'EducLevel', 'OrgSector',\n",
      "       'EducUndergradMajor__', 'Gender_', 'LGBTQ', 'Loc3CityEtc__',\n",
      "       'Loc1Country__cleaned', 'Loc1Country__categorized', 'HumanLanguages__'],\n",
      "      dtype='object')\n"
     ]
    }
   ],
   "source": [
    "print(df.columns)\n",
    "df1 = df[[\"refID\",\"PayAnnual\",\"RoleMultichoice\",\"Freelance\",\"YearsDVExperience\",\"EducLevel\",\"Gender_\",\"Loc1Country__cleaned\"]]"
   ],
   "metadata": {
    "collapsed": false,
    "pycharm": {
     "name": "#%%\n"
    }
   }
  },
  {
   "cell_type": "code",
   "execution_count": 63,
   "outputs": [
    {
     "name": "stderr",
     "output_type": "stream",
     "text": [
      "C:\\Users\\David\\AppData\\Local\\Temp\\ipykernel_19344\\1107252715.py:1: SettingWithCopyWarning: \n",
      "A value is trying to be set on a copy of a slice from a DataFrame.\n",
      "Try using .loc[row_indexer,col_indexer] = value instead\n",
      "\n",
      "See the caveats in the documentation: https://pandas.pydata.org/pandas-docs/stable/user_guide/indexing.html#returning-a-view-versus-a-copy\n",
      "  df1[\"Gender_\"] = df1[\"Gender_\"].replace([\"Prefer not to say\",\"Non-binary\",\"Woman, Non-binary\",\"Genderqueer\",\"Man, Non-binary\",\"Trans\",\"Woman, Prefer not to say\"],\"Other\")\n"
     ]
    },
    {
     "data": {
      "text/plain": "Man      858\nWoman    434\nOther     36\nName: Gender_, dtype: int64"
     },
     "execution_count": 63,
     "metadata": {},
     "output_type": "execute_result"
    }
   ],
   "source": [
    "df1[\"Gender_\"] = df1[\"Gender_\"].replace([\"Prefer not to say\",\"Non-binary\",\"Woman, Non-binary\",\"Genderqueer\",\"Man, Non-binary\",\"Trans\",\"Woman, Prefer not to say\"],\"Other\")\n",
    "df1[\"Gender_\"].value_counts()\n",
    "#Changing all Non-Binary to \"Other\""
   ],
   "metadata": {
    "collapsed": false,
    "pycharm": {
     "name": "#%%\n"
    }
   }
  },
  {
   "cell_type": "code",
   "execution_count": 64,
   "outputs": [
    {
     "name": "stderr",
     "output_type": "stream",
     "text": [
      "C:\\Users\\David\\AppData\\Local\\Temp\\ipykernel_19344\\318490814.py:3: SettingWithCopyWarning: \n",
      "A value is trying to be set on a copy of a slice from a DataFrame.\n",
      "Try using .loc[row_indexer,col_indexer] = value instead\n",
      "\n",
      "See the caveats in the documentation: https://pandas.pydata.org/pandas-docs/stable/user_guide/indexing.html#returning-a-view-versus-a-copy\n",
      "  df1[\"PayAnnual\"] = pd.Categorical(df1[\"PayAnnual\"],categories=[\"Less than $20,000\",\"$20k - $40k\",\"$40k - $60k\",\"$60k - $80k\",\"$80k - $100k\",\"$100k - $120k\",\"$120k - $140k\",\"$140k - $160k\",\"$160k - $180k\",\"$180k - $200k\",\"$200k+\"],ordered=True)\n"
     ]
    },
    {
     "data": {
      "text/plain": "refID                      int64\nPayAnnual               category\nRoleMultichoice           object\nFreelance                 object\nYearsDVExperience        float64\nEducLevel                 object\nGender_                   object\nLoc1Country__cleaned      object\ndtype: object"
     },
     "execution_count": 64,
     "metadata": {},
     "output_type": "execute_result"
    }
   ],
   "source": [
    "df1[\"PayAnnual\"].value_counts()\n",
    "#Ordering Categories of PayAnnual\n",
    "df1[\"PayAnnual\"] = pd.Categorical(df1[\"PayAnnual\"],categories=[\"Less than $20,000\",\"$20k - $40k\",\"$40k - $60k\",\"$60k - $80k\",\"$80k - $100k\",\"$100k - $120k\",\"$120k - $140k\",\"$140k - $160k\",\"$160k - $180k\",\"$180k - $200k\",\"$200k+\"],ordered=True)\n",
    "df1.dtypes"
   ],
   "metadata": {
    "collapsed": false,
    "pycharm": {
     "name": "#%%\n"
    }
   }
  },
  {
   "cell_type": "code",
   "execution_count": 65,
   "outputs": [
    {
     "name": "stderr",
     "output_type": "stream",
     "text": [
      "C:\\Users\\David\\AppData\\Local\\Temp\\ipykernel_19344\\4124676843.py:2: SettingWithCopyWarning: \n",
      "A value is trying to be set on a copy of a slice from a DataFrame.\n",
      "Try using .loc[row_indexer,col_indexer] = value instead\n",
      "\n",
      "See the caveats in the documentation: https://pandas.pydata.org/pandas-docs/stable/user_guide/indexing.html#returning-a-view-versus-a-copy\n",
      "  df1[\"RoleMultichoice\"] = pd.Categorical(df1[\"RoleMultichoice\"],df1[\"RoleMultichoice\"].unique())\n",
      "C:\\Users\\David\\AppData\\Local\\Temp\\ipykernel_19344\\4124676843.py:3: SettingWithCopyWarning: \n",
      "A value is trying to be set on a copy of a slice from a DataFrame\n",
      "\n",
      "See the caveats in the documentation: https://pandas.pydata.org/pandas-docs/stable/user_guide/indexing.html#returning-a-view-versus-a-copy\n",
      "  df1[\"Freelance\"].fillna(\"Unclear\", inplace=True)\n",
      "C:\\Users\\David\\AppData\\Local\\Temp\\ipykernel_19344\\4124676843.py:4: SettingWithCopyWarning: \n",
      "A value is trying to be set on a copy of a slice from a DataFrame.\n",
      "Try using .loc[row_indexer,col_indexer] = value instead\n",
      "\n",
      "See the caveats in the documentation: https://pandas.pydata.org/pandas-docs/stable/user_guide/indexing.html#returning-a-view-versus-a-copy\n",
      "  df1[\"Freelance\"] = pd.Categorical(df1[\"Freelance\"],df1[\"Freelance\"].unique())\n"
     ]
    },
    {
     "data": {
      "text/plain": "refID                      int64\nPayAnnual               category\nRoleMultichoice         category\nFreelance               category\nYearsDVExperience        float64\nEducLevel                 object\nGender_                   object\nLoc1Country__cleaned      object\ndtype: object"
     },
     "execution_count": 65,
     "metadata": {},
     "output_type": "execute_result"
    }
   ],
   "source": [
    "#Change Role to Categorical and Freelance, Fill Freelance\n",
    "df1[\"RoleMultichoice\"] = pd.Categorical(df1[\"RoleMultichoice\"],df1[\"RoleMultichoice\"].unique())\n",
    "df1[\"Freelance\"].fillna(\"Unclear\", inplace=True)\n",
    "df1[\"Freelance\"] = pd.Categorical(df1[\"Freelance\"],df1[\"Freelance\"].unique())\n",
    "df1.dtypes"
   ],
   "metadata": {
    "collapsed": false,
    "pycharm": {
     "name": "#%%\n"
    }
   }
  },
  {
   "cell_type": "code",
   "execution_count": 66,
   "outputs": [
    {
     "name": "stderr",
     "output_type": "stream",
     "text": [
      "C:\\Users\\David\\AppData\\Local\\Temp\\ipykernel_19344\\1405313208.py:2: SettingWithCopyWarning: \n",
      "A value is trying to be set on a copy of a slice from a DataFrame\n",
      "\n",
      "See the caveats in the documentation: https://pandas.pydata.org/pandas-docs/stable/user_guide/indexing.html#returning-a-view-versus-a-copy\n",
      "  df1[\"EducLevel\"].fillna(\"None\", inplace=True)\n",
      "C:\\Users\\David\\AppData\\Local\\Temp\\ipykernel_19344\\1405313208.py:24: SettingWithCopyWarning: \n",
      "A value is trying to be set on a copy of a slice from a DataFrame.\n",
      "Try using .loc[row_indexer,col_indexer] = value instead\n",
      "\n",
      "See the caveats in the documentation: https://pandas.pydata.org/pandas-docs/stable/user_guide/indexing.html#returning-a-view-versus-a-copy\n",
      "  df1[\"EducLevel\"]=df1[\"EducLevel\"].apply(lambda x: educFilter(x))\n"
     ]
    },
    {
     "data": {
      "text/plain": "Masters             576\nBatchelors          438\nPhD                 239\nOther                47\nTechnical School     36\nSome College         14\nNone                  7\nName: EducLevel, dtype: int64"
     },
     "execution_count": 66,
     "metadata": {},
     "output_type": "execute_result"
    }
   ],
   "source": [
    "#Fill Nulls in EducLevel with None, Categorical ordered\n",
    "df1[\"EducLevel\"].fillna(\"None\", inplace=True)\n",
    "#If contains EducLevel contains \"phd\" or \"doctorate\" or \"ABD\" Assume phd level\n",
    "#If contains \"masters\" or \"ms\" but NOT \"phd' assume \"Masters\"\n",
    "#If contains AAS or Associates, or some, assume \"Some Degree\"\n",
    "#If contains \"High School\" assume \"No Degree\"\n",
    "#else, \"Other\"\n",
    "def educFilter(text:str):\n",
    "    lowerText = text.lower()\n",
    "    if any(substring in lowerText for substring in [\"phd\",\"doctorate\",\"abd\"]):\n",
    "        return \"PhD\"\n",
    "    if any(substring in lowerText for substring in ['masters','ms']):\n",
    "        return \"Masters\"\n",
    "    if any(substring in lowerText for substring in ['ba','bachelor']):\n",
    "        return \"Batchelors\"\n",
    "    if any(substring in lowerText for substring in [\"associates\",\"some\"]):\n",
    "        return \"Some College\"\n",
    "    if any(substring in lowerText for substring in ['high school','no degree']):\n",
    "        return \"None\"\n",
    "    if \"technical school\" in lowerText:\n",
    "        return \"Technical School\"\n",
    "    return \"Other\"\n",
    "\n",
    "df1[\"EducLevel\"]=df1[\"EducLevel\"].apply(lambda x: educFilter(x))\n",
    "df1[\"EducLevel\"].value_counts()\n"
   ],
   "metadata": {
    "collapsed": false,
    "pycharm": {
     "name": "#%%\n"
    }
   }
  },
  {
   "cell_type": "code",
   "execution_count": 71,
   "outputs": [
    {
     "name": "stderr",
     "output_type": "stream",
     "text": [
      "C:\\Users\\David\\AppData\\Local\\Temp\\ipykernel_19344\\1622611710.py:1: SettingWithCopyWarning: \n",
      "A value is trying to be set on a copy of a slice from a DataFrame\n",
      "\n",
      "See the caveats in the documentation: https://pandas.pydata.org/pandas-docs/stable/user_guide/indexing.html#returning-a-view-versus-a-copy\n",
      "  df1.dropna(how=\"any\", subset=\"PayAnnual\", inplace=True)\n"
     ]
    }
   ],
   "source": [
    "df1.dropna(how=\"any\", subset=\"PayAnnual\", inplace=True)\n",
    "df1.to_csv(\"DataDraft1.csv\")"
   ],
   "metadata": {
    "collapsed": false,
    "pycharm": {
     "name": "#%%\n"
    }
   }
  }
 ],
 "metadata": {
  "kernelspec": {
   "display_name": "Python 3",
   "language": "python",
   "name": "python3"
  },
  "language_info": {
   "codemirror_mode": {
    "name": "ipython",
    "version": 2
   },
   "file_extension": ".py",
   "mimetype": "text/x-python",
   "name": "python",
   "nbconvert_exporter": "python",
   "pygments_lexer": "ipython2",
   "version": "2.7.6"
  }
 },
 "nbformat": 4,
 "nbformat_minor": 0
}